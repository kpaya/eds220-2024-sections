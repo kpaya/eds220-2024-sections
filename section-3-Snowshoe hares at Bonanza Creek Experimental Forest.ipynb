{
 "cells": [
  {
   "cell_type": "markdown",
   "id": "3db07e1d-63a1-4a08-a204-bac188891ff6",
   "metadata": {},
   "source": [
    "# Week 3 - Discussion section\n",
    "## Snowshoe hares at Bonanza Creek Experimental Forest"
   ]
  },
  {
   "cell_type": "markdown",
   "id": "8292379f-f5e0-44f7-bdf6-a0273f481ecf",
   "metadata": {},
   "source": [
    "1. What is this data about?\n",
    "2. During what time frame were the observations in the dataset collected?\n",
    "3. Does the dataset contain sensitive data?\n",
    "4. Is there a publication associated with this dataset?"
   ]
  },
  {
   "cell_type": "markdown",
   "id": "6b58c089-5d6b-44d5-8c5c-ddaa4ae7384e",
   "metadata": {},
   "source": [
    "#brief description of the dataset, including a citation, date of access, and a link to the archive.\n",
    "\n",
    "Citation: Kielland, K., F.S. Chapin, R.W. Ruess, and Bonanza Creek LTER. 2017. Snowshoe hare physical data in Bonanza Creek Experimental Forest: 1999-Present ver 22. Environmental Data Initiative. https://doi.org/10.6073/pasta/03dce4856d79b91557d8e6ce2cbcdc14 (Accessed 2024-10-16).\n",
    "\n",
    "Link: https://portal.edirepository.org/nis/advancedSearch.jsp\n",
    "\n",
    "Date of Access: Oct. 17, 2024"
   ]
  },
  {
   "cell_type": "markdown",
   "id": "cde3fa27-ec75-4c88-88d2-c70fe2241f6b",
   "metadata": {
    "tags": []
   },
   "source": [
    "![Snowshoe Hare](https://upload.wikimedia.org/wikipedia/commons/thumb/8/8a/SNOWSHOE_HARE_%28Lepus_americanus%29_%285-28-2015%29_quoddy_head%2C_washington_co%2C_maine_-01_%2818988734889%29.jpg/1452px-SNOWSHOE_HARE_%28Lepus_americanus%29_%285-28-2015%29_quoddy_head%2C_washington_co%2C_maine_-01_%2818988734889%29.jpg?20170313021652)\n",
    "Source: Schmierer, Alan. “Snowshoe Hare (Lepus americanus).” Wikimedia Commons, 28 May 2015. Last edited 30 Aug. 2024, https://commons.wikimedia.org/wiki/File:SNOWSHOE_HARE_%28Lepus_americanus%29_%285-28-2015%29_quoddy_head%2C_washington_co%2C_maine_-01_%2818988734889%29.jpg"
   ]
  },
  {
   "cell_type": "markdown",
   "id": "a8519c77-f991-4c6a-b7c4-c15d95eeed4e",
   "metadata": {
    "tags": []
   },
   "source": [
    "## 3. Data loading and preliminary exploration"
   ]
  },
  {
   "cell_type": "code",
   "execution_count": 1,
   "id": "3df14eef-6e62-4910-820c-d91d700845d9",
   "metadata": {
    "tags": []
   },
   "outputs": [],
   "source": [
    "# Loading libraries\n",
    "import pandas as pd\n",
    "import numpy as np"
   ]
  },
  {
   "cell_type": "code",
   "execution_count": 2,
   "id": "232bfbe6-64ba-450e-85b9-2f1b9cf87cc1",
   "metadata": {
    "tags": []
   },
   "outputs": [],
   "source": [
    "# Load data\n",
    "hares=pd.read_csv('https://portal.edirepository.org/nis/dataviewer?packageid=knb-lter-bnz.55.22&entityid=f01f5d71be949b8c700b6ecd1c42c701')"
   ]
  },
  {
   "cell_type": "code",
   "execution_count": 3,
   "id": "afec3721-d664-4468-9f1e-c2b6367c7bf6",
   "metadata": {
    "tags": []
   },
   "outputs": [
    {
     "data": {
      "text/html": [
       "<div>\n",
       "<style scoped>\n",
       "    .dataframe tbody tr th:only-of-type {\n",
       "        vertical-align: middle;\n",
       "    }\n",
       "\n",
       "    .dataframe tbody tr th {\n",
       "        vertical-align: top;\n",
       "    }\n",
       "\n",
       "    .dataframe thead th {\n",
       "        text-align: right;\n",
       "    }\n",
       "</style>\n",
       "<table border=\"1\" class=\"dataframe\">\n",
       "  <thead>\n",
       "    <tr style=\"text-align: right;\">\n",
       "      <th></th>\n",
       "      <th>date</th>\n",
       "      <th>time</th>\n",
       "      <th>grid</th>\n",
       "      <th>trap</th>\n",
       "      <th>l_ear</th>\n",
       "      <th>r_ear</th>\n",
       "      <th>sex</th>\n",
       "      <th>age</th>\n",
       "      <th>weight</th>\n",
       "      <th>hindft</th>\n",
       "      <th>notes</th>\n",
       "      <th>b_key</th>\n",
       "      <th>session_id</th>\n",
       "      <th>study</th>\n",
       "    </tr>\n",
       "  </thead>\n",
       "  <tbody>\n",
       "    <tr>\n",
       "      <th>0</th>\n",
       "      <td>11/26/1998</td>\n",
       "      <td>NaN</td>\n",
       "      <td>bonrip</td>\n",
       "      <td>1A</td>\n",
       "      <td>414D096A08</td>\n",
       "      <td>NaN</td>\n",
       "      <td>NaN</td>\n",
       "      <td>NaN</td>\n",
       "      <td>1370.0</td>\n",
       "      <td>160.0</td>\n",
       "      <td>NaN</td>\n",
       "      <td>917.0</td>\n",
       "      <td>51</td>\n",
       "      <td>Population</td>\n",
       "    </tr>\n",
       "    <tr>\n",
       "      <th>1</th>\n",
       "      <td>11/26/1998</td>\n",
       "      <td>NaN</td>\n",
       "      <td>bonrip</td>\n",
       "      <td>2C</td>\n",
       "      <td>414D320671</td>\n",
       "      <td>NaN</td>\n",
       "      <td>M</td>\n",
       "      <td>NaN</td>\n",
       "      <td>1430.0</td>\n",
       "      <td>NaN</td>\n",
       "      <td>NaN</td>\n",
       "      <td>936.0</td>\n",
       "      <td>51</td>\n",
       "      <td>Population</td>\n",
       "    </tr>\n",
       "    <tr>\n",
       "      <th>2</th>\n",
       "      <td>11/26/1998</td>\n",
       "      <td>NaN</td>\n",
       "      <td>bonrip</td>\n",
       "      <td>2D</td>\n",
       "      <td>414D103E3A</td>\n",
       "      <td>NaN</td>\n",
       "      <td>M</td>\n",
       "      <td>NaN</td>\n",
       "      <td>1430.0</td>\n",
       "      <td>NaN</td>\n",
       "      <td>NaN</td>\n",
       "      <td>921.0</td>\n",
       "      <td>51</td>\n",
       "      <td>Population</td>\n",
       "    </tr>\n",
       "    <tr>\n",
       "      <th>3</th>\n",
       "      <td>11/26/1998</td>\n",
       "      <td>NaN</td>\n",
       "      <td>bonrip</td>\n",
       "      <td>2E</td>\n",
       "      <td>414D262D43</td>\n",
       "      <td>NaN</td>\n",
       "      <td>NaN</td>\n",
       "      <td>NaN</td>\n",
       "      <td>1490.0</td>\n",
       "      <td>135.0</td>\n",
       "      <td>NaN</td>\n",
       "      <td>931.0</td>\n",
       "      <td>51</td>\n",
       "      <td>Population</td>\n",
       "    </tr>\n",
       "    <tr>\n",
       "      <th>4</th>\n",
       "      <td>11/26/1998</td>\n",
       "      <td>NaN</td>\n",
       "      <td>bonrip</td>\n",
       "      <td>3B</td>\n",
       "      <td>414D2B4B58</td>\n",
       "      <td>NaN</td>\n",
       "      <td>NaN</td>\n",
       "      <td>NaN</td>\n",
       "      <td>1710.0</td>\n",
       "      <td>150.0</td>\n",
       "      <td>NaN</td>\n",
       "      <td>933.0</td>\n",
       "      <td>51</td>\n",
       "      <td>Population</td>\n",
       "    </tr>\n",
       "    <tr>\n",
       "      <th>...</th>\n",
       "      <td>...</td>\n",
       "      <td>...</td>\n",
       "      <td>...</td>\n",
       "      <td>...</td>\n",
       "      <td>...</td>\n",
       "      <td>...</td>\n",
       "      <td>...</td>\n",
       "      <td>...</td>\n",
       "      <td>...</td>\n",
       "      <td>...</td>\n",
       "      <td>...</td>\n",
       "      <td>...</td>\n",
       "      <td>...</td>\n",
       "      <td>...</td>\n",
       "    </tr>\n",
       "    <tr>\n",
       "      <th>3375</th>\n",
       "      <td>8/8/2002</td>\n",
       "      <td>18:00:00</td>\n",
       "      <td>bonrip</td>\n",
       "      <td>1b</td>\n",
       "      <td>1201</td>\n",
       "      <td>1202</td>\n",
       "      <td>NaN</td>\n",
       "      <td>NaN</td>\n",
       "      <td>1400.0</td>\n",
       "      <td>NaN</td>\n",
       "      <td>NaN</td>\n",
       "      <td>63.0</td>\n",
       "      <td>64</td>\n",
       "      <td>Population</td>\n",
       "    </tr>\n",
       "    <tr>\n",
       "      <th>3376</th>\n",
       "      <td>8/8/2002</td>\n",
       "      <td>6:00:00</td>\n",
       "      <td>bonrip</td>\n",
       "      <td>4b</td>\n",
       "      <td>1201</td>\n",
       "      <td>1202</td>\n",
       "      <td>NaN</td>\n",
       "      <td>NaN</td>\n",
       "      <td>NaN</td>\n",
       "      <td>NaN</td>\n",
       "      <td>NaN</td>\n",
       "      <td>63.0</td>\n",
       "      <td>64</td>\n",
       "      <td>Population</td>\n",
       "    </tr>\n",
       "    <tr>\n",
       "      <th>3377</th>\n",
       "      <td>8/7/2002</td>\n",
       "      <td>NaN</td>\n",
       "      <td>bonrip</td>\n",
       "      <td>4b</td>\n",
       "      <td>1217</td>\n",
       "      <td>1218</td>\n",
       "      <td>NaN</td>\n",
       "      <td>NaN</td>\n",
       "      <td>1000.0</td>\n",
       "      <td>134.0</td>\n",
       "      <td>NaN</td>\n",
       "      <td>69.0</td>\n",
       "      <td>64</td>\n",
       "      <td>Population</td>\n",
       "    </tr>\n",
       "    <tr>\n",
       "      <th>3378</th>\n",
       "      <td>8/8/2002</td>\n",
       "      <td>NaN</td>\n",
       "      <td>bonrip</td>\n",
       "      <td>6d</td>\n",
       "      <td>1217</td>\n",
       "      <td>1218</td>\n",
       "      <td>NaN</td>\n",
       "      <td>NaN</td>\n",
       "      <td>990.0</td>\n",
       "      <td>NaN</td>\n",
       "      <td>NaN</td>\n",
       "      <td>69.0</td>\n",
       "      <td>64</td>\n",
       "      <td>Population</td>\n",
       "    </tr>\n",
       "    <tr>\n",
       "      <th>3379</th>\n",
       "      <td>8/6/2002</td>\n",
       "      <td>NaN</td>\n",
       "      <td>bonrip</td>\n",
       "      <td>4b</td>\n",
       "      <td>1058</td>\n",
       "      <td>1060</td>\n",
       "      <td>M</td>\n",
       "      <td>NaN</td>\n",
       "      <td>1460.0</td>\n",
       "      <td>119.0</td>\n",
       "      <td>NaN</td>\n",
       "      <td>32.0</td>\n",
       "      <td>64</td>\n",
       "      <td>Population</td>\n",
       "    </tr>\n",
       "  </tbody>\n",
       "</table>\n",
       "<p>3380 rows × 14 columns</p>\n",
       "</div>"
      ],
      "text/plain": [
       "            date      time    grid trap       l_ear r_ear  sex  age  weight  \\\n",
       "0     11/26/1998       NaN  bonrip   1A  414D096A08   NaN  NaN  NaN  1370.0   \n",
       "1     11/26/1998       NaN  bonrip   2C  414D320671   NaN    M  NaN  1430.0   \n",
       "2     11/26/1998       NaN  bonrip   2D  414D103E3A   NaN    M  NaN  1430.0   \n",
       "3     11/26/1998       NaN  bonrip   2E  414D262D43   NaN  NaN  NaN  1490.0   \n",
       "4     11/26/1998       NaN  bonrip   3B  414D2B4B58   NaN  NaN  NaN  1710.0   \n",
       "...          ...       ...     ...  ...         ...   ...  ...  ...     ...   \n",
       "3375    8/8/2002  18:00:00  bonrip  1b         1201  1202  NaN  NaN  1400.0   \n",
       "3376    8/8/2002   6:00:00  bonrip  4b         1201  1202  NaN  NaN     NaN   \n",
       "3377    8/7/2002       NaN  bonrip   4b        1217  1218  NaN  NaN  1000.0   \n",
       "3378    8/8/2002       NaN  bonrip   6d        1217  1218  NaN  NaN   990.0   \n",
       "3379    8/6/2002       NaN  bonrip   4b        1058  1060    M  NaN  1460.0   \n",
       "\n",
       "      hindft notes  b_key  session_id       study  \n",
       "0      160.0   NaN  917.0          51  Population  \n",
       "1        NaN   NaN  936.0          51  Population  \n",
       "2        NaN   NaN  921.0          51  Population  \n",
       "3      135.0   NaN  931.0          51  Population  \n",
       "4      150.0   NaN  933.0          51  Population  \n",
       "...      ...   ...    ...         ...         ...  \n",
       "3375     NaN   NaN   63.0          64  Population  \n",
       "3376     NaN   NaN   63.0          64  Population  \n",
       "3377   134.0   NaN   69.0          64  Population  \n",
       "3378     NaN   NaN   69.0          64  Population  \n",
       "3379   119.0   NaN   32.0          64  Population  \n",
       "\n",
       "[3380 rows x 14 columns]"
      ]
     },
     "execution_count": 3,
     "metadata": {},
     "output_type": "execute_result"
    }
   ],
   "source": [
    "# Set pandas to display all columns in the data frame.\n",
    "pd.set_option(\"display.max_columns\",None)\n",
    "hares"
   ]
  },
  {
   "cell_type": "code",
   "execution_count": 4,
   "id": "3e681d9e-9784-402c-8162-4bc6def93e50",
   "metadata": {
    "tags": []
   },
   "outputs": [
    {
     "name": "stdout",
     "output_type": "stream",
     "text": [
      "<class 'pandas.core.frame.DataFrame'>\n",
      "RangeIndex: 3380 entries, 0 to 3379\n",
      "Data columns (total 14 columns):\n",
      " #   Column      Non-Null Count  Dtype  \n",
      "---  ------      --------------  -----  \n",
      " 0   date        3380 non-null   object \n",
      " 1   time        264 non-null    object \n",
      " 2   grid        3380 non-null   object \n",
      " 3   trap        3368 non-null   object \n",
      " 4   l_ear       3332 non-null   object \n",
      " 5   r_ear       3211 non-null   object \n",
      " 6   sex         3028 non-null   object \n",
      " 7   age         1269 non-null   object \n",
      " 8   weight      2845 non-null   float64\n",
      " 9   hindft      1633 non-null   float64\n",
      " 10  notes       243 non-null    object \n",
      " 11  b_key       3333 non-null   float64\n",
      " 12  session_id  3380 non-null   int64  \n",
      " 13  study       3217 non-null   object \n",
      "dtypes: float64(3), int64(1), object(10)\n",
      "memory usage: 369.8+ KB\n"
     ]
    }
   ],
   "source": [
    "# What are the dimensions of the dataframe and what are the data types of the columns? \n",
    "# Use pandas methods to obtain preliminary info\n",
    "\n",
    "hares.info()"
   ]
  },
  {
   "cell_type": "code",
   "execution_count": 5,
   "id": "1a4d4f07-a48b-460f-a048-4073b8c58739",
   "metadata": {
    "tags": []
   },
   "outputs": [
    {
     "data": {
      "text/plain": [
       "(3380, 14)"
      ]
     },
     "execution_count": 5,
     "metadata": {},
     "output_type": "execute_result"
    }
   ],
   "source": [
    "hares.shape"
   ]
  },
  {
   "cell_type": "markdown",
   "id": "f730d749-e3b9-4229-9857-ae1d66a29098",
   "metadata": {},
   "source": [
    "# Do the data types match what you would expect from each column?\n",
    "\n",
    "-Date and time should be Datetime and Timedelta Types\n"
   ]
  },
  {
   "cell_type": "code",
   "execution_count": 6,
   "id": "631b6662-7f53-4c86-ad5b-660dcaebc486",
   "metadata": {
    "tags": []
   },
   "outputs": [
    {
     "data": {
      "text/plain": [
       "date             0\n",
       "time          3116\n",
       "grid             0\n",
       "trap            12\n",
       "l_ear           48\n",
       "r_ear          169\n",
       "sex            352\n",
       "age           2111\n",
       "weight         535\n",
       "hindft        1747\n",
       "notes         3137\n",
       "b_key           47\n",
       "session_id       0\n",
       "study          163\n",
       "dtype: int64"
      ]
     },
     "execution_count": 6,
     "metadata": {},
     "output_type": "execute_result"
    }
   ],
   "source": [
    "# Are there any columns that have a significant number of NA values?\n",
    "nan_counts = hares.isna().sum()\n",
    "nan_counts"
   ]
  },
  {
   "cell_type": "code",
   "execution_count": 7,
   "id": "af1014bc-5ccf-4d81-82f9-89d38b940315",
   "metadata": {
    "tags": []
   },
   "outputs": [
    {
     "name": "stdout",
     "output_type": "stream",
     "text": [
      "the min weight:  0.0\n",
      "the max weight:  2365.0\n",
      "the min hind feet:  60.0\n",
      "the max hind feet:  160.0\n"
     ]
    }
   ],
   "source": [
    "# What are the minimum and maximum values for the weight and hind feet measurements?\n",
    "print('the min weight: ', min(hares['weight']))\n",
    "print('the max weight: ',max(hares['weight']))\n",
    "print('the min hind feet: ', min(hares['hindft']))\n",
    "print('the max hind feet: ',max(hares['hindft']))"
   ]
  },
  {
   "cell_type": "code",
   "execution_count": 8,
   "id": "d50a38c9-1fbf-471d-87c1-f401ef5c2fae",
   "metadata": {
    "tags": []
   },
   "outputs": [
    {
     "data": {
      "text/plain": [
       "date           256\n",
       "time           165\n",
       "grid             5\n",
       "trap           121\n",
       "l_ear         1020\n",
       "r_ear          963\n",
       "sex             12\n",
       "age             30\n",
       "weight         266\n",
       "hindft          90\n",
       "notes          118\n",
       "b_key         1026\n",
       "session_id     113\n",
       "study            4\n",
       "dtype: int64"
      ]
     },
     "execution_count": 8,
     "metadata": {},
     "output_type": "execute_result"
    }
   ],
   "source": [
    "# What are the unique values for some of the categorical columns?\n",
    "hares.nunique()"
   ]
  },
  {
   "cell_type": "code",
   "execution_count": 9,
   "id": "da975c03-9b5e-4332-a980-a1bfb19db2be",
   "metadata": {},
   "outputs": [],
   "source": [
    "# An explroatory question about the data frame you come up with!"
   ]
  },
  {
   "cell_type": "markdown",
   "id": "53536100-99b7-4d83-8ff7-caf45fca7671",
   "metadata": {
    "tags": []
   },
   "source": [
    "## 4. Detecting messy values"
   ]
  },
  {
   "cell_type": "markdown",
   "id": "7df33ff3-7d60-40f5-8a5a-b527562eef86",
   "metadata": {},
   "source": [
    "In the metadata section of the EDI repository, find which are the allowed values for the hares’ sex. Create a small table in a markdown cell showing the values and their definitions."
   ]
  },
  {
   "cell_type": "markdown",
   "id": "5be4746a-8114-4f36-86f5-11f2a5a54d24",
   "metadata": {},
   "source": [
    "| Code | Definition                |\n",
    "|------|---------------------------|\n",
    "| m    | male                      |\n",
    "| f    | female                    |\n",
    "| m?   | male not confirmed        |\n",
    "\n"
   ]
  },
  {
   "cell_type": "code",
   "execution_count": 36,
   "id": "e90be3f1-871d-4b84-8477-0a828605c428",
   "metadata": {
    "tags": []
   },
   "outputs": [
    {
     "data": {
      "text/plain": [
       "array([nan, 'M', 'F', '?', 'F?', 'M?', 'pf', 'm', 'f', 'f?', 'm?', 'f ',\n",
       "       'm '], dtype=object)"
      ]
     },
     "execution_count": 36,
     "metadata": {},
     "output_type": "execute_result"
    }
   ],
   "source": [
    "hares['sex'].unique()"
   ]
  },
  {
   "cell_type": "markdown",
   "id": "d30b12d3-762f-4885-b970-202381756080",
   "metadata": {},
   "source": [
    "Get the number of times each unique sex non-NA value appears."
   ]
  },
  {
   "cell_type": "code",
   "execution_count": 10,
   "id": "a5e8bedd-ec02-4252-a9ed-48726f23fecc",
   "metadata": {
    "tags": []
   },
   "outputs": [
    {
     "name": "stdout",
     "output_type": "stream",
     "text": [
      "3028\n"
     ]
    }
   ],
   "source": [
    "print(len(hares) - (hares['sex'].isna().sum()))"
   ]
  },
  {
   "cell_type": "markdown",
   "id": "47bee1e8-798b-4a1d-b797-e72b11752953",
   "metadata": {},
   "source": [
    "Check the documentation of value_counts(). What is the purpose of the dropna parameter and what is its default value? \n",
    "\n",
    "The value_counts() function in pandas is used to count the unique values in a Series. The dropna parameter determines whether to exclude NaN (missing) values from the count.\n",
    "\n",
    "Repeat step (a), this time adding the dropna=False parameter to value_counts()."
   ]
  },
  {
   "cell_type": "code",
   "execution_count": 31,
   "id": "54a7fafe-3818-4b02-9b96-6b3cc9708166",
   "metadata": {
    "tags": []
   },
   "outputs": [
    {
     "data": {
      "text/plain": [
       "3380"
      ]
     },
     "execution_count": 31,
     "metadata": {},
     "output_type": "execute_result"
    }
   ],
   "source": [
    "sum(hares['sex'].value_counts(dropna=False))"
   ]
  },
  {
   "cell_type": "markdown",
   "id": "17e96f2a-c595-42dd-b194-57ee1ac2ec9a",
   "metadata": {
    "tags": []
   },
   "source": [
    "## 5. Brainstorm"
   ]
  },
  {
   "cell_type": "markdown",
   "id": "87813c68-3287-4b69-9a98-955457e5f093",
   "metadata": {},
   "source": [
    "Individually, write step-by-step instructions on how you would wrangle the hares data frame to clean the values in the sex column to have only two classes female and male. Which codes would you assign to each new class? Remember: It’s ok if you don’t know how to code each step - it’s more important to have an idea of what you would like to do."
   ]
  },
  {
   "cell_type": "code",
   "execution_count": null,
   "id": "3d87d1a8-b495-48b2-9259-758ced0d5eb7",
   "metadata": {},
   "outputs": [],
   "source": []
  },
  {
   "cell_type": "markdown",
   "id": "f021dc0c-cbfa-407e-8bb5-327ae184aef3",
   "metadata": {
    "tags": []
   },
   "source": [
    "## 6. Clean values"
   ]
  },
  {
   "cell_type": "markdown",
   "id": "3c53dd7a-9dbc-49d8-952d-935d37ea0a21",
   "metadata": {},
   "source": [
    "a) Create a new column called sex_simple using the numpy.select() function so that\n",
    "‘F’, ‘f’, and ‘f_’ in the sex column get assigned to ‘female’,\n",
    "‘M’, ‘m’, and ‘m_’ get assigned to ‘male’, and\n",
    "anything else gets assigned np.nan"
   ]
  },
  {
   "cell_type": "code",
   "execution_count": 30,
   "id": "12261eb0-845c-4b13-b61d-bf77f84b3d7c",
   "metadata": {
    "tags": []
   },
   "outputs": [
    {
     "name": "stdout",
     "output_type": "stream",
     "text": [
      "0        nan\n",
      "1       male\n",
      "2       male\n",
      "3        nan\n",
      "4        nan\n",
      "        ... \n",
      "3375     nan\n",
      "3376     nan\n",
      "3377     nan\n",
      "3378     nan\n",
      "3379    male\n",
      "Name: sex_simple, Length: 3380, dtype: object\n"
     ]
    }
   ],
   "source": [
    "# Define conditions for the 'sex' column based on its values\n",
    "conditions = [\n",
    "    hares['sex'].isin(['F', 'f', 'f_']),\n",
    "    hares['sex'].isin(['M', 'm', 'm_'])\n",
    "]\n",
    "\n",
    "# Define the corresponding gender labels for the conditions\n",
    "gender = ['female', 'male']\n",
    "\n",
    "# Create a new column 'sex_simple' based on the defined conditions\n",
    "# Use np.select to assign 'female' or 'male', and np.nan for unmatched cases\n",
    "hares['sex_simple'] = np.select(conditions, gender, default=np.nan)\n",
    "\n",
    "print(hares['sex_simple'])"
   ]
  },
  {
   "cell_type": "markdown",
   "id": "ceefd7c3-d1cc-49d6-9a6d-cb25b06915b3",
   "metadata": {},
   "source": [
    "b)Check the counts of unique values (including NAs) in the new sex_simple column."
   ]
  },
  {
   "cell_type": "code",
   "execution_count": 26,
   "id": "3662266d-37e1-453c-9cdd-5f28f0bc2fad",
   "metadata": {},
   "outputs": [
    {
     "data": {
      "text/plain": [
       "3380"
      ]
     },
     "execution_count": 26,
     "metadata": {},
     "output_type": "execute_result"
    }
   ],
   "source": [
    "hares['sex_simple'].isna().count()"
   ]
  },
  {
   "cell_type": "markdown",
   "id": "270952f7-ab22-4aef-8010-5f0ccd9431df",
   "metadata": {
    "tags": []
   },
   "source": [
    "## 7. Calculate mean weight"
   ]
  },
  {
   "cell_type": "markdown",
   "id": "595486b7-ac13-4905-95bb-45ad505c2ffb",
   "metadata": {},
   "source": [
    "a) Use groupby() to calculate the mean weight by sex using the new column."
   ]
  },
  {
   "cell_type": "code",
   "execution_count": 29,
   "id": "7ec0b758-e505-4450-aa9c-5fe37c8ad2b2",
   "metadata": {
    "tags": []
   },
   "outputs": [
    {
     "data": {
      "text/plain": [
       "sex_simple\n",
       "female    1366.920372\n",
       "male      1352.145553\n",
       "nan       1176.511111\n",
       "Name: weight, dtype: float64"
      ]
     },
     "execution_count": 29,
     "metadata": {},
     "output_type": "execute_result"
    }
   ],
   "source": [
    "mean_weight_bysex=hares.groupby('sex_simple')['weight'].mean()\n",
    "mean_weight_bysex"
   ]
  },
  {
   "cell_type": "markdown",
   "id": "97577283-8c91-4282-b97c-65b03a12ae87",
   "metadata": {},
   "source": [
    "b)Write a full sentence explaining the results you obtained. Don’t forget to include units."
   ]
  },
  {
   "cell_type": "markdown",
   "id": "a092c9e3-a0a6-4015-b498-4712277e6b4c",
   "metadata": {},
   "source": [
    "The results indicate that the average weight of female hares is approximately 1366.92 grams, which is slightly higher than the average weight of male hares at around 1352.15 grams, while the average weight of the samples categorized as NaN (not classified by sex) is lower, at approximately 1176.51 grams."
   ]
  },
  {
   "cell_type": "markdown",
   "id": "938ba4eb-5e9a-4d6c-9cc2-82aecaef3c16",
   "metadata": {
    "tags": []
   },
   "source": [
    "## 8. Collect your code and explain your results"
   ]
  },
  {
   "cell_type": "markdown",
   "id": "ef4df7d6-fa6f-49bc-ba5e-075c43cc647d",
   "metadata": {},
   "source": [
    "In a new code cell, collect all the relevant code to obtain to create a streamlined workflow to obtain the final result from exercise 7 starting from importing the data. Your code cell should:"
   ]
  },
  {
   "cell_type": "code",
   "execution_count": null,
   "id": "32282610-3037-4bc9-8079-aea955a4e35a",
   "metadata": {},
   "outputs": [],
   "source": [
    "\n",
    "1. Import data and libraries\n",
    "2. Data Exploration:\n",
    "    - .info , .shape, .isna().sum(), .nunique()\n",
    "4. group by sex: groupby('sex_simple')\n",
    "5. calculate the mean of each sex: ['weight'].mean()\n"
   ]
  },
  {
   "cell_type": "code",
   "execution_count": 44,
   "id": "4e4bdda5-3a1e-4026-8a0b-7426012a5477",
   "metadata": {
    "tags": []
   },
   "outputs": [
    {
     "name": "stdout",
     "output_type": "stream",
     "text": [
      "there's more than 2 categories\n",
      "sex_simple\n",
      "female    1366.920372\n",
      "male      1352.145553\n",
      "nan       1176.511111\n",
      "Name: weight, dtype: float64\n"
     ]
    }
   ],
   "source": [
    "# Load data\n",
    "hares=pd.read_csv('https://portal.edirepository.org/nis/dataviewer?packageid=knb-lter-bnz.55.22&entityid=f01f5d71be949b8c700b6ecd1c42c701')\n",
    "\n",
    "# Checking if the 'sex' column contains more than two categories\n",
    "if len(hares['sex'].unique())>2:\n",
    "    print(\"there's more than 2 sex categories\")\n",
    "    # Define conditions for the 'sex' column based on its values\n",
    "    conditions = [\n",
    "        hares['sex'].isin(['F', 'f', 'f_']),\n",
    "        hares['sex'].isin(['M', 'm', 'm_'])\n",
    "    ]\n",
    "\n",
    "    # Define the corresponding gender labels for the conditions\n",
    "    gender = ['female', 'male']\n",
    "\n",
    "    # Create a new column 'sex_simple' based on the defined conditions\n",
    "    # Use np.select to assign 'female' or 'male', and np.nan for unmatched cases\n",
    "    hares['sex_simple'] = np.select(conditions, gender, default=np.nan)\n",
    "    \n",
    "    # Calculating the mean of weight for each sex group\n",
    "    mean_weight_bysex=hares.groupby('sex_simple')['weight'].mean()\n",
    "    \n",
    "    # Display output of mean_weight_bysex\n",
    "    print(mean_weight_bysex)\n",
    "\n",
    "else:\n",
    "    print(\"there's only 2 categories\")"
   ]
  }
 ],
 "metadata": {
  "kernelspec": {
   "display_name": "Python 3.10.0",
   "language": "python",
   "name": "python3.10.0"
  },
  "language_info": {
   "codemirror_mode": {
    "name": "ipython",
    "version": 3
   },
   "file_extension": ".py",
   "mimetype": "text/x-python",
   "name": "python",
   "nbconvert_exporter": "python",
   "pygments_lexer": "ipython3",
   "version": "3.10.0"
  }
 },
 "nbformat": 4,
 "nbformat_minor": 5
}
